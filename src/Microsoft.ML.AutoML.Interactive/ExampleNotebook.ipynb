{
  "cells": [
    {
      "cell_type": "code",
      "execution_count": 1,
      "metadata": {
        "dotnet_interactive": {
          "language": "csharp"
        }
      },
      "source": [
        "/* ML.NET Model Builder generated Notebook file. Notebook files contain both code snippets and rich text elements.\n",
        "Use the \"run\" button in the left margin to execute each code snippet and explore ML.NET. */\n",
        "\n",
        "#i \"nuget:https://pkgs.dev.azure.com/dnceng/public/_packaging/dotnet5/nuget/v3/index.json\" \n",
        "#i \"nuget:https://pkgs.dev.azure.com/dnceng/public/_packaging/dotnet-tools/nuget/v3/index.json\"\n",
        "#i \"nuget:https://mlnetcli.blob.core.windows.net/mlnetcli/index.json\"\n",
        "#i nuget:C:\\dev\\RevisedTaxiNotebook\\Microsoft.ML.AutoML.Interactive\\bin\\Debug\\\n",
        ""
      ],
      "outputs": [
        {
          "output_type": "execute_result",
          "data": {
            "text/html": "<div><div><strong>Restore sources</strong><ul><li><span>C:\\dev\\RevisedTaxiNotebook\\Microsoft.ML.AutoML.Interactive\\bin\\Debug\\</span></li><li><span>C:\\dev\\RevisedTaxiNotebook\\Microsoft.ML.AutoML.Interactive\\bin\\Debug\\net6.0\\</span></li></ul></div><div></div><div><strong>Installed Packages</strong><ul><li><span>Microsoft.ML.AutoML.Interactive, 1.0.0</span></li></ul></div></div>"
          },
          "execution_count": 1,
          "metadata": {}
        },
        {
          "output_type": "execute_result",
          "data": {
            "text/markdown": "Loading extensions from `Microsoft.ML.AutoML.Interactive.dll`"
          },
          "execution_count": 1,
          "metadata": {}
        }
      ]
    },
    {
      "cell_type": "code",
      "execution_count": 1,
      "metadata": {
        "dotnet_interactive": {
          "language": "csharp"
        }
      },
      "source": [
        "#r \"nuget:Microsoft.ML.AutoML.Interactive,1.0.0\"\n",
        "#r \"nuget:Microsoft.ML.AutoML,0.20.3-dev.22174.1\"\n",
        "#r \"nuget:Microsoft.Data.Analysis,0.20.3-dev.22174.1\""
      ],
      "outputs": [
        {
          "output_type": "execute_result",
          "data": {
            "text/html": "<div><div><strong>Restore sources</strong><ul><li><span>C:\\dev\\RevisedTaxiNotebook\\Microsoft.ML.AutoML.Interactive\\bin\\Debug\\</span></li><li><span>C:\\dev\\RevisedTaxiNotebook\\Microsoft.ML.AutoML.Interactive\\bin\\Debug\\net6.0\\</span></li><li><span>https://mlnetcli.blob.core.windows.net/mlnetcli/index.json</span></li><li><span>https://pkgs.dev.azure.com/dnceng/public/_packaging/dotnet-tools/nuget/v3/index.json</span></li><li><span>https://pkgs.dev.azure.com/dnceng/public/_packaging/dotnet5/nuget/v3/index.json</span></li></ul></div><div></div><div><strong>Installed Packages</strong><ul><li><span>Microsoft.Data.Analysis, 0.20.3-dev.22174.1</span></li><li><span>microsoft.ml.automl, 0.20.3-dev.22174.1</span></li></ul></div></div>"
          },
          "execution_count": 1,
          "metadata": {}
        },
        {
          "output_type": "execute_result",
          "data": {
            "text/markdown": "Loading extensions from `Microsoft.Data.Analysis.Interactive.dll`"
          },
          "execution_count": 1,
          "metadata": {}
        }
      ]
    },
    {
      "cell_type": "code",
      "execution_count": 1,
      "metadata": {
        "dotnet_interactive": {
          "language": "csharp"
        }
      },
      "source": [
        "\n",
        "// Import common usings.\n",
        "using static Microsoft.DotNet.Interactive.Formatting.PocketViewTags;\n",
        "using Microsoft.DotNet.Interactive.Formatting;\n",
        "using Microsoft.Data.Analysis;\n",
        "using System;\n",
        "using System.Collections.Generic;\n",
        "using System.IO;\n",
        "using System.Linq;\n",
        "using Microsoft.ML;\n",
        "using Microsoft.ML.Data;\n",
        "using Microsoft.ML.Trainers;\n",
        "using Microsoft.ML.SearchSpace;\n",
        "using Microsoft.ML.SearchSpace.Tuner;\n",
        "using Microsoft.ML.Transforms.Text;\n",
        "using Microsoft.ML.AutoML;\n",
        "using System;\n",
        "using System.Collections.Generic;\n",
        "using System.Text;\n",
        "using System.Text.Json;\n",
        "using Microsoft.ML.Runtime;\n",
        "using Microsoft.ML.AutoML.Interactive;"
      ],
      "outputs": []
    },
    {
      "cell_type": "code",
      "execution_count": 1,
      "metadata": {
        "dotnet_interactive": {
          "language": "csharp"
        }
      },
      "source": [
        "var TrainDataPath = @\"C:\\dev\\datasets\\titanic.csv\";;\n",
        "\n",
        "var context = new MLContext();\n",
        "var df = DataFrame.LoadCsv(TrainDataPath);\n",
        "\n",
        "var pipeline = context.Transforms.Categorical.OneHotEncoding(new[] { new InputOutputColumnPair(@\"Sex\", @\"Sex\"), new InputOutputColumnPair(@\"Embarked\", @\"Embarked\") })\n",
        "                           .Append(context.Transforms.ReplaceMissingValues(new[] { new InputOutputColumnPair(@\"Pclass\", @\"Pclass\"), new InputOutputColumnPair(@\"Age\", @\"Age\"), new InputOutputColumnPair(@\"SibSp\", @\"SibSp\"), new InputOutputColumnPair(@\"Parch\", @\"Parch\"), new InputOutputColumnPair(@\"Fare\", @\"Fare\") }))\n",
        "                           .Append(context.Transforms.Concatenate(@\"TextFeature\", @\"Name\", \"Ticket\", \"Cabin\"))\n",
        "                           .Append(context.Transforms.Text.FeaturizeText(\"TextFeature\", \"TextFeature\"))\n",
        "                           .Append(context.Transforms.Concatenate(@\"Features\", new[] { @\"Sex\", @\"Embarked\", @\"Pclass\", @\"Age\", @\"SibSp\", @\"Parch\", @\"Fare\", \"TextFeature\" }))\n",
        "                           .Append(context.Transforms.Conversion.ConvertType(\"Survived\", \"Survived\", DataKind.Boolean))\n",
        "\t\t\t\t\t\t   .Append(context.Auto().BinaryClassification(labelColumnName: \"Survived\", useFastForest: false));\n",
        "\n",
        "var trainTestSplit = context.Data.TrainTestSplit(df, 0.1);\n",
        "var monitor = new NotebookMonitor();\n",
        "\n",
        "            var experiment = context.Auto().CreateExperiment()\n",
        "                                .SetPipeline(pipeline)\n",
        "                                .SetTrainingTimeInSeconds(150)\n",
        "                                .SetDataset(trainTestSplit.TrainSet, trainTestSplit.TestSet)\n",
        "                                .SetEvaluateMetric(BinaryClassificationMetric.Accuracy, \"Survived\", \"PredictedLabel\")\n",
        "                                .SetMonitor(monitor);\n",
        "\t\t\t\n",
        "\t\t\tmonitor.SetUpdate(monitor.Display());\n",
        "            var res = experiment.Run().Result;\n",
        "\n",
        "\t\t\t"
      ],
      "outputs": [
        {
          "output_type": "error",
          "ename": "",
          "evalue": "(15,19): error CS0246: The type or namespace name 'NotebookMonitor' could not be found (are you missing a using directive or an assembly reference?)",
          "traceback": [
            null
          ]
        }
      ]
    }
  ],
  "metadata": {
    "kernelspec": {
      "display_name": ".NET (C#)",
      "language": "C#",
      "name": ".net-csharp"
    },
    "language_info": {
      "file_extension": ".cs",
      "mimetype": "text/x-csharp",
      "name": "C#",
      "pygments_lexer": "csharp",
      "version": "8.0"
    }
  },
  "nbformat": 4,
  "nbformat_minor": 4
}