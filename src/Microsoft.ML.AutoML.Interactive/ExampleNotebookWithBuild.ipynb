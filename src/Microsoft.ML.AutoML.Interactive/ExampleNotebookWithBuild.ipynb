{
  "cells": [
    {
      "cell_type": "code",
      "execution_count": 1,
      "metadata": {
        "dotnet_interactive": {
          "language": "pwsh"
        }
      },
      "source": [
        "\n",
        "#!pwsh\n",
        "# 1. Build the project\n",
        "dotnet build\n",
        "\n",
        "# Pack up the NuGet package. Note, you should increment the version because the previous one, once installed, will be in your NuGet cache\n",
        "dotnet pack /p:PackageVersion=1.0.1\n",
        "\n",
        "# 3. Check that the package is there\n",
        "Get-ChildItem -Recurse Microsoft.ML.AutoML.Interactive*.nupkg"
      ],
      "outputs": [
        {
          "output_type": "execute_result",
          "data": {
            "text/plain": "\r\n"
          },
          "execution_count": 1,
          "metadata": {}
        }
      ]
    },
    {
      "cell_type": "code",
      "execution_count": 1,
      "metadata": {
        "dotnet_interactive": {
          "language": "csharp"
        }
      },
      "source": [
        "#i nuget:C:\\dev\\RevisedTaxiNotebook\\Microsoft.ML.AutoML.Interactive\\bin\\Debug\\\n",
        "#r \"nuget:Microsoft.ML.AutoML.Interactive,1.0.1\""
      ],
      "outputs": [
        {
          "output_type": "execute_result",
          "data": {
            "text/html": "<div><div><strong>Restore sources</strong><ul><li><span>C:\\dev\\RevisedTaxiNotebook\\Microsoft.ML.AutoML.Interactive\\bin\\Debug\\</span></li></ul></div><div></div><div><strong>Installed Packages</strong><ul><li><span>Microsoft.ML.AutoML.Interactive, 1.0.1</span></li></ul></div></div>"
          },
          "execution_count": 1,
          "metadata": {}
        },
        {
          "output_type": "execute_result",
          "data": {
            "text/markdown": "Loading extensions from `Microsoft.ML.AutoML.Interactive.dll`"
          },
          "execution_count": 1,
          "metadata": {}
        }
      ]
    },
    {
      "cell_type": "code",
      "execution_count": 1,
      "metadata": {
        "dotnet_interactive": {
          "language": "csharp"
        }
      },
      "source": [
        "\n",
        "/* ML.NET Model Builder generated Notebook file. Notebook files contain both code snippets and rich text elements.\n",
        "Use the \"run\" button in the left margin to execute each code snippet and explore ML.NET. */\n",
        "\n",
        "#i \"nuget:https://pkgs.dev.azure.com/dnceng/public/_packaging/dotnet5/nuget/v3/index.json\" \n",
        "#i \"nuget:https://pkgs.dev.azure.com/dnceng/public/_packaging/dotnet-tools/nuget/v3/index.json\"\n",
        "#i \"nuget:https://mlnetcli.blob.core.windows.net/mlnetcli/index.json\"\n",
        "\n",
        "#r \"nuget:Microsoft.ML.AutoML,0.20.3-dev.22174.1\"\n",
        "#r \"nuget:Microsoft.Data.Analysis,0.20.3-dev.22174.1\""
      ],
      "outputs": [
        {
          "output_type": "execute_result",
          "data": {
            "text/html": "<div><div><strong>Restore sources</strong><ul><li><span>C:\\dev\\RevisedTaxiNotebook\\Microsoft.ML.AutoML.Interactive\\bin\\Debug\\</span></li><li><span>https://mlnetcli.blob.core.windows.net/mlnetcli/index.json</span></li><li><span>https://pkgs.dev.azure.com/dnceng/public/_packaging/dotnet-tools/nuget/v3/index.json</span></li><li><span>https://pkgs.dev.azure.com/dnceng/public/_packaging/dotnet5/nuget/v3/index.json</span></li></ul></div><div></div><div><strong>Installed Packages</strong><ul><li><span>Microsoft.Data.Analysis, 0.20.3-dev.22174.1</span></li><li><span>microsoft.ml.automl, 0.20.3-dev.22174.1</span></li></ul></div></div>"
          },
          "execution_count": 1,
          "metadata": {}
        },
        {
          "output_type": "execute_result",
          "data": {
            "text/markdown": "Loading extensions from `Microsoft.Data.Analysis.Interactive.dll`"
          },
          "execution_count": 1,
          "metadata": {}
        }
      ]
    },
    {
      "cell_type": "code",
      "execution_count": 1,
      "metadata": {
        "dotnet_interactive": {
          "language": "csharp"
        }
      },
      "source": [
        "\n",
        "// Import common usings.\n",
        "using static Microsoft.DotNet.Interactive.Formatting.PocketViewTags;\n",
        "using Microsoft.DotNet.Interactive.Formatting;\n",
        "using Microsoft.Data.Analysis;\n",
        "using System;\n",
        "using System.Collections.Generic;\n",
        "using System.IO;\n",
        "using System.Linq;\n",
        "using Microsoft.ML;\n",
        "using Microsoft.ML.Data;\n",
        "using Microsoft.ML.Trainers;\n",
        "using Microsoft.ML.SearchSpace;\n",
        "using Microsoft.ML.SearchSpace.Tuner;\n",
        "using Microsoft.ML.Transforms.Text;\n",
        "using Microsoft.ML.AutoML;\n",
        "using System;\n",
        "using System.Collections.Generic;\n",
        "using System.Text;\n",
        "using System.Text.Json;\n",
        "using Microsoft.ML.Runtime;\n",
        "using Microsoft.ML.AutoML.Interactive;"
      ],
      "outputs": []
    },
    {
      "cell_type": "code",
      "execution_count": 1,
      "metadata": {
        "dotnet_interactive": {
          "language": "csharp"
        }
      },
      "source": [
        "var TrainDataPath = @\"C:\\dev\\datasets\\titanic.csv\";;\n",
        "\n",
        "var context = new MLContext();\n",
        "var df = DataFrame.LoadCsv(TrainDataPath);\n",
        "\n",
        "var pipeline = context.Transforms.Categorical.OneHotEncoding(new[] { new InputOutputColumnPair(@\"Sex\", @\"Sex\"), new InputOutputColumnPair(@\"Embarked\", @\"Embarked\") })\n",
        "                           .Append(context.Transforms.ReplaceMissingValues(new[] { new InputOutputColumnPair(@\"Pclass\", @\"Pclass\"), new InputOutputColumnPair(@\"Age\", @\"Age\"), new InputOutputColumnPair(@\"SibSp\", @\"SibSp\"), new InputOutputColumnPair(@\"Parch\", @\"Parch\"), new InputOutputColumnPair(@\"Fare\", @\"Fare\") }))\n",
        "                           .Append(context.Transforms.Concatenate(@\"TextFeature\", @\"Name\", \"Ticket\", \"Cabin\"))\n",
        "                           .Append(context.Transforms.Text.FeaturizeText(\"TextFeature\", \"TextFeature\"))\n",
        "                           .Append(context.Transforms.Concatenate(@\"Features\", new[] { @\"Sex\", @\"Embarked\", @\"Pclass\", @\"Age\", @\"SibSp\", @\"Parch\", @\"Fare\", \"TextFeature\" }))\n",
        "                           .Append(context.Transforms.Conversion.ConvertType(\"Survived\", \"Survived\", DataKind.Boolean))\n",
        "\t\t\t\t\t\t   .Append(context.Auto().BinaryClassification(labelColumnName: \"Survived\", useFastForest: false));\n",
        "\n",
        "var trainTestSplit = context.Data.TrainTestSplit(df, 0.1);\n",
        "var monitor = new NotebookMonitor();\n",
        "\n",
        "            var experiment = context.Auto().CreateExperiment()\n",
        "                                .SetPipeline(pipeline)\n",
        "                                .SetTrainingTimeInSeconds(150)\n",
        "                                .SetDataset(trainTestSplit.TrainSet, trainTestSplit.TestSet)\n",
        "                                .SetEvaluateMetric(BinaryClassificationMetric.Accuracy, \"Survived\", \"PredictedLabel\")\n",
        "                                .SetMonitor(monitor);\n",
        "\t\t\t\n",
        "\t\t\tmonitor.SetUpdate(monitor.Display());\n",
        "            var res = experiment.Run().Result;\n",
        "\n",
        "\t\t\t"
      ],
      "outputs": [
        {
          "output_type": "execute_result",
          "data": {
            "text/html": "\r\n<div>\r\n\t\r\n\t<h3>Best Run</h3>\r\n\t<p>\r\n\t\tTrial: 49 <br>\r\n\t</p>\r\n\t\r\n\t\r\n\t<h3>Active Run</h3>\r\n\t<p>\r\n\t\tTrial: 87 <br>\r\n\t\tPipeline: Unknown=>SdcaLogisticRegressionBinary<br>\r\n\t\tParameter: {\r\n  \"0\": {},\r\n  \"1\": {\r\n    \"L1Regularization\": 0.15039632,\r\n    \"L2Regularization\": 0.05518257,\r\n    \"LabelColumnName\": \"Survived\",\r\n    \"FeatureColumnName\": \"Features\"\r\n  }\r\n}\r\n\t</p>\r\n\t\r\n</div>\r\n<div style=\"width: 500px; height: 500px;\" id=\"653b984b-5314-462b-b78a-d4a2cd06d359\">\r\n</div>\r\n<div>\r\n\t<table id=\"example\" class=\"display\" style=\"width:100%\">\r\n        <thead>\r\n            <tr>\r\n                <th>Trial</th>\r\n                <th>Metric</th>\r\n                <th>Pipeline</th>\r\n            </tr>\r\n        </thead>\r\n        <tbody>\r\n\r\n\t\t\r\n\t\t<tr>\r\n            <td>0</td>\r\n            <td>0.6794871794871795</td>\r\n            <td>Unknown=>SdcaLogisticRegressionBinary</td>\r\n        </tr>\r\n\t \r\n\t\t<tr>\r\n            <td>1</td>\r\n            <td>0.5512820512820513</td>\r\n            <td>Unknown=>SdcaLogisticRegressionBinary</td>\r\n        </tr>\r\n\t \r\n\t\t<tr>\r\n            <td>2</td>\r\n            <td>0.8205128205128205</td>\r\n            <td>Unknown=>LbfgsLogisticRegressionBinary</td>\r\n        </tr>\r\n\t \r\n\t\t<tr>\r\n            <td>3</td>\r\n            <td>0.8205128205128205</td>\r\n            <td>Unknown=>FastTreeBinary</td>\r\n        </tr>\r\n\t \r\n\t\t<tr>\r\n            <td>4</td>\r\n            <td>0.8205128205128205</td>\r\n            <td>Unknown=>LightGbmBinary</td>\r\n        </tr>\r\n\t \r\n\t\t<tr>\r\n            <td>5</td>\r\n            <td>0.7948717948717948</td>\r\n            <td>Unknown=>LbfgsLogisticRegressionBinary</td>\r\n        </tr>\r\n\t \r\n\t\t<tr>\r\n            <td>6</td>\r\n            <td>0.7307692307692307</td>\r\n            <td>Unknown=>SdcaLogisticRegressionBinary</td>\r\n        </tr>\r\n\t \r\n\t\t<tr>\r\n            <td>7</td>\r\n            <td>0.7948717948717948</td>\r\n            <td>Unknown=>LightGbmBinary</td>\r\n        </tr>\r\n\t \r\n\t\t<tr>\r\n            <td>8</td>\r\n            <td>0.8333333333333334</td>\r\n            <td>Unknown=>FastTreeBinary</td>\r\n        </tr>\r\n\t \r\n\t\t<tr>\r\n            <td>9</td>\r\n            <td>0.717948717948718</td>\r\n            <td>Unknown=>SdcaLogisticRegressionBinary</td>\r\n        </tr>\r\n\t \r\n\t\t<tr>\r\n            <td>10</td>\r\n            <td>0.8333333333333334</td>\r\n            <td>Unknown=>LbfgsLogisticRegressionBinary</td>\r\n        </tr>\r\n\t \r\n\t\t<tr>\r\n            <td>11</td>\r\n            <td>0.7948717948717948</td>\r\n            <td>Unknown=>FastTreeBinary</td>\r\n        </tr>\r\n\t \r\n\t\t<tr>\r\n            <td>12</td>\r\n            <td>0.782051282051282</td>\r\n            <td>Unknown=>LightGbmBinary</td>\r\n        </tr>\r\n\t \r\n\t\t<tr>\r\n            <td>13</td>\r\n            <td>0.8205128205128205</td>\r\n            <td>Unknown=>LbfgsLogisticRegressionBinary</td>\r\n        </tr>\r\n\t \r\n\t\t<tr>\r\n            <td>14</td>\r\n            <td>0.7051282051282052</td>\r\n            <td>Unknown=>SdcaLogisticRegressionBinary</td>\r\n        </tr>\r\n\t \r\n\t\t<tr>\r\n            <td>15</td>\r\n            <td>0.8205128205128205</td>\r\n            <td>Unknown=>LbfgsLogisticRegressionBinary</td>\r\n        </tr>\r\n\t \r\n\t\t<tr>\r\n            <td>16</td>\r\n            <td>0.7948717948717948</td>\r\n            <td>Unknown=>FastTreeBinary</td>\r\n        </tr>\r\n\t \r\n\t\t<tr>\r\n            <td>17</td>\r\n            <td>0.8205128205128205</td>\r\n            <td>Unknown=>LightGbmBinary</td>\r\n        </tr>\r\n\t \r\n\t\t<tr>\r\n            <td>18</td>\r\n            <td>0.7051282051282052</td>\r\n            <td>Unknown=>SdcaLogisticRegressionBinary</td>\r\n        </tr>\r\n\t \r\n\t\t<tr>\r\n            <td>19</td>\r\n            <td>0.8205128205128205</td>\r\n            <td>Unknown=>LbfgsLogisticRegressionBinary</td>\r\n        </tr>\r\n\t \r\n\t\t<tr>\r\n            <td>20</td>\r\n            <td>0.7948717948717948</td>\r\n            <td>Unknown=>FastTreeBinary</td>\r\n        </tr>\r\n\t \r\n\t\t<tr>\r\n            <td>21</td>\r\n            <td>0.8076923076923077</td>\r\n            <td>Unknown=>LightGbmBinary</td>\r\n        </tr>\r\n\t \r\n\t\t<tr>\r\n            <td>22</td>\r\n            <td>0.7051282051282052</td>\r\n            <td>Unknown=>SdcaLogisticRegressionBinary</td>\r\n        </tr>\r\n\t \r\n\t\t<tr>\r\n            <td>23</td>\r\n            <td>0.8205128205128205</td>\r\n            <td>Unknown=>LbfgsLogisticRegressionBinary</td>\r\n        </tr>\r\n\t \r\n\t\t<tr>\r\n            <td>24</td>\r\n            <td>0.8076923076923077</td>\r\n            <td>Unknown=>FastTreeBinary</td>\r\n        </tr>\r\n\t \r\n\t\t<tr>\r\n            <td>25</td>\r\n            <td>0.7948717948717948</td>\r\n            <td>Unknown=>LightGbmBinary</td>\r\n        </tr>\r\n\t \r\n\t\t<tr>\r\n            <td>26</td>\r\n            <td>0.7692307692307693</td>\r\n            <td>Unknown=>SdcaLogisticRegressionBinary</td>\r\n        </tr>\r\n\t \r\n\t\t<tr>\r\n            <td>27</td>\r\n            <td>0.8205128205128205</td>\r\n            <td>Unknown=>LbfgsLogisticRegressionBinary</td>\r\n        </tr>\r\n\t \r\n\t\t<tr>\r\n            <td>28</td>\r\n            <td>0.8205128205128205</td>\r\n            <td>Unknown=>FastTreeBinary</td>\r\n        </tr>\r\n\t \r\n\t\t<tr>\r\n            <td>29</td>\r\n            <td>0.8461538461538461</td>\r\n            <td>Unknown=>LightGbmBinary</td>\r\n        </tr>\r\n\t \r\n\t\t<tr>\r\n            <td>30</td>\r\n            <td>0.8333333333333334</td>\r\n            <td>Unknown=>LbfgsLogisticRegressionBinary</td>\r\n        </tr>\r\n\t \r\n\t\t<tr>\r\n            <td>31</td>\r\n            <td>0.782051282051282</td>\r\n            <td>Unknown=>SdcaLogisticRegressionBinary</td>\r\n        </tr>\r\n\t \r\n\t\t<tr>\r\n            <td>32</td>\r\n            <td>0.8076923076923077</td>\r\n            <td>Unknown=>FastTreeBinary</td>\r\n        </tr>\r\n\t \r\n\t\t<tr>\r\n            <td>33</td>\r\n            <td>0.8205128205128205</td>\r\n            <td>Unknown=>LightGbmBinary</td>\r\n        </tr>\r\n\t \r\n\t\t<tr>\r\n            <td>34</td>\r\n            <td>0.717948717948718</td>\r\n            <td>Unknown=>SdcaLogisticRegressionBinary</td>\r\n        </tr>\r\n\t \r\n\t\t<tr>\r\n            <td>35</td>\r\n            <td>0.8205128205128205</td>\r\n            <td>Unknown=>LbfgsLogisticRegressionBinary</td>\r\n        </tr>\r\n\t \r\n\t\t<tr>\r\n            <td>36</td>\r\n            <td>0.8205128205128205</td>\r\n            <td>Unknown=>LightGbmBinary</td>\r\n        </tr>\r\n\t \r\n\t\t<tr>\r\n            <td>37</td>\r\n            <td>0.782051282051282</td>\r\n            <td>Unknown=>FastTreeBinary</td>\r\n        </tr>\r\n\t \r\n\t\t<tr>\r\n            <td>38</td>\r\n            <td>0.6153846153846154</td>\r\n            <td>Unknown=>SdcaLogisticRegressionBinary</td>\r\n        </tr>\r\n\t \r\n\t\t<tr>\r\n            <td>39</td>\r\n            <td>0.8205128205128205</td>\r\n            <td>Unknown=>LbfgsLogisticRegressionBinary</td>\r\n        </tr>\r\n\t \r\n\t\t<tr>\r\n            <td>40</td>\r\n            <td>0.8205128205128205</td>\r\n            <td>Unknown=>LightGbmBinary</td>\r\n        </tr>\r\n\t \r\n\t\t<tr>\r\n            <td>41</td>\r\n            <td>0.8205128205128205</td>\r\n            <td>Unknown=>FastTreeBinary</td>\r\n        </tr>\r\n\t \r\n\t\t<tr>\r\n            <td>42</td>\r\n            <td>0.6794871794871795</td>\r\n            <td>Unknown=>SdcaLogisticRegressionBinary</td>\r\n        </tr>\r\n\t \r\n\t\t<tr>\r\n            <td>43</td>\r\n            <td>0.8461538461538461</td>\r\n            <td>Unknown=>LightGbmBinary</td>\r\n        </tr>\r\n\t \r\n\t\t<tr>\r\n            <td>44</td>\r\n            <td>0.8205128205128205</td>\r\n            <td>Unknown=>LbfgsLogisticRegressionBinary</td>\r\n        </tr>\r\n\t \r\n\t\t<tr>\r\n            <td>45</td>\r\n            <td>0.8333333333333334</td>\r\n            <td>Unknown=>FastTreeBinary</td>\r\n        </tr>\r\n\t \r\n\t\t<tr>\r\n            <td>46</td>\r\n            <td>0.6923076923076923</td>\r\n            <td>Unknown=>SdcaLogisticRegressionBinary</td>\r\n        </tr>\r\n\t \r\n\t\t<tr>\r\n            <td>47</td>\r\n            <td>0.8461538461538461</td>\r\n            <td>Unknown=>LightGbmBinary</td>\r\n        </tr>\r\n\t \r\n\t\t<tr>\r\n            <td>48</td>\r\n            <td>0.8461538461538461</td>\r\n            <td>Unknown=>LbfgsLogisticRegressionBinary</td>\r\n        </tr>\r\n\t \r\n\t\t<tr>\r\n            <td>49</td>\r\n            <td>0.8589743589743589</td>\r\n            <td>Unknown=>FastTreeBinary</td>\r\n        </tr>\r\n\t \r\n\t\t<tr>\r\n            <td>50</td>\r\n            <td>0.8589743589743589</td>\r\n            <td>Unknown=>LightGbmBinary</td>\r\n        </tr>\r\n\t \r\n\t\t<tr>\r\n            <td>51</td>\r\n            <td>0.7692307692307693</td>\r\n            <td>Unknown=>SdcaLogisticRegressionBinary</td>\r\n        </tr>\r\n\t \r\n\t\t<tr>\r\n            <td>52</td>\r\n            <td>0.8205128205128205</td>\r\n            <td>Unknown=>LbfgsLogisticRegressionBinary</td>\r\n        </tr>\r\n\t \r\n\t\t<tr>\r\n            <td>53</td>\r\n            <td>0.8205128205128205</td>\r\n            <td>Unknown=>LightGbmBinary</td>\r\n        </tr>\r\n\t \r\n\t\t<tr>\r\n            <td>54</td>\r\n            <td>0.8461538461538461</td>\r\n            <td>Unknown=>FastTreeBinary</td>\r\n        </tr>\r\n\t \r\n\t\t<tr>\r\n            <td>55</td>\r\n            <td>0.7051282051282052</td>\r\n            <td>Unknown=>SdcaLogisticRegressionBinary</td>\r\n        </tr>\r\n\t \r\n\t\t<tr>\r\n            <td>56</td>\r\n            <td>0.8333333333333334</td>\r\n            <td>Unknown=>LbfgsLogisticRegressionBinary</td>\r\n        </tr>\r\n\t \r\n\t\t<tr>\r\n            <td>57</td>\r\n            <td>0.8076923076923077</td>\r\n            <td>Unknown=>LightGbmBinary</td>\r\n        </tr>\r\n\t \r\n\t\t<tr>\r\n            <td>58</td>\r\n            <td>0.8076923076923077</td>\r\n            <td>Unknown=>FastTreeBinary</td>\r\n        </tr>\r\n\t \r\n\t\t<tr>\r\n            <td>59</td>\r\n            <td>0.7307692307692307</td>\r\n            <td>Unknown=>SdcaLogisticRegressionBinary</td>\r\n        </tr>\r\n\t \r\n\t\t<tr>\r\n            <td>60</td>\r\n            <td>0.8205128205128205</td>\r\n            <td>Unknown=>LbfgsLogisticRegressionBinary</td>\r\n        </tr>\r\n\t \r\n\t\t<tr>\r\n            <td>61</td>\r\n            <td>0.8589743589743589</td>\r\n            <td>Unknown=>LightGbmBinary</td>\r\n        </tr>\r\n\t \r\n\t\t<tr>\r\n            <td>62</td>\r\n            <td>0.8333333333333334</td>\r\n            <td>Unknown=>FastTreeBinary</td>\r\n        </tr>\r\n\t \r\n\t\t<tr>\r\n            <td>63</td>\r\n            <td>0.7564102564102564</td>\r\n            <td>Unknown=>SdcaLogisticRegressionBinary</td>\r\n        </tr>\r\n\t \r\n\t\t<tr>\r\n            <td>64</td>\r\n            <td>0.8333333333333334</td>\r\n            <td>Unknown=>LbfgsLogisticRegressionBinary</td>\r\n        </tr>\r\n\t \r\n\t\t<tr>\r\n            <td>65</td>\r\n            <td>0.8333333333333334</td>\r\n            <td>Unknown=>LightGbmBinary</td>\r\n        </tr>\r\n\t \r\n\t\t<tr>\r\n            <td>66</td>\r\n            <td>0.7948717948717948</td>\r\n            <td>Unknown=>FastTreeBinary</td>\r\n        </tr>\r\n\t \r\n\t\t<tr>\r\n            <td>67</td>\r\n            <td>0.7692307692307693</td>\r\n            <td>Unknown=>SdcaLogisticRegressionBinary</td>\r\n        </tr>\r\n\t \r\n\t\t<tr>\r\n            <td>68</td>\r\n            <td>0.8205128205128205</td>\r\n            <td>Unknown=>LbfgsLogisticRegressionBinary</td>\r\n        </tr>\r\n\t \r\n\t\t<tr>\r\n            <td>69</td>\r\n            <td>0.8333333333333334</td>\r\n            <td>Unknown=>LightGbmBinary</td>\r\n        </tr>\r\n\t \r\n\t\t<tr>\r\n            <td>70</td>\r\n            <td>0.8461538461538461</td>\r\n            <td>Unknown=>FastTreeBinary</td>\r\n        </tr>\r\n\t \r\n\t\t<tr>\r\n            <td>71</td>\r\n            <td>0.717948717948718</td>\r\n            <td>Unknown=>SdcaLogisticRegressionBinary</td>\r\n        </tr>\r\n\t \r\n\t\t<tr>\r\n            <td>72</td>\r\n            <td>0.8333333333333334</td>\r\n            <td>Unknown=>LbfgsLogisticRegressionBinary</td>\r\n        </tr>\r\n\t \r\n\t\t<tr>\r\n            <td>73</td>\r\n            <td>0.8333333333333334</td>\r\n            <td>Unknown=>LightGbmBinary</td>\r\n        </tr>\r\n\t \r\n\t\t<tr>\r\n            <td>74</td>\r\n            <td>0.7948717948717948</td>\r\n            <td>Unknown=>FastTreeBinary</td>\r\n        </tr>\r\n\t \r\n\t\t<tr>\r\n            <td>75</td>\r\n            <td>0.782051282051282</td>\r\n            <td>Unknown=>SdcaLogisticRegressionBinary</td>\r\n        </tr>\r\n\t \r\n\t\t<tr>\r\n            <td>76</td>\r\n            <td>0.8076923076923077</td>\r\n            <td>Unknown=>LightGbmBinary</td>\r\n        </tr>\r\n\t \r\n\t\t<tr>\r\n            <td>77</td>\r\n            <td>0.8461538461538461</td>\r\n            <td>Unknown=>LbfgsLogisticRegressionBinary</td>\r\n        </tr>\r\n\t \r\n\t\t<tr>\r\n            <td>78</td>\r\n            <td>0.8076923076923077</td>\r\n            <td>Unknown=>FastTreeBinary</td>\r\n        </tr>\r\n\t \r\n\t\t<tr>\r\n            <td>79</td>\r\n            <td>0.7307692307692307</td>\r\n            <td>Unknown=>SdcaLogisticRegressionBinary</td>\r\n        </tr>\r\n\t \r\n\t\t<tr>\r\n            <td>80</td>\r\n            <td>0.8076923076923077</td>\r\n            <td>Unknown=>LightGbmBinary</td>\r\n        </tr>\r\n\t \r\n\t\t<tr>\r\n            <td>81</td>\r\n            <td>0.8205128205128205</td>\r\n            <td>Unknown=>LbfgsLogisticRegressionBinary</td>\r\n        </tr>\r\n\t \r\n\t\t<tr>\r\n            <td>82</td>\r\n            <td>0.8076923076923077</td>\r\n            <td>Unknown=>FastTreeBinary</td>\r\n        </tr>\r\n\t \r\n\t\t<tr>\r\n            <td>83</td>\r\n            <td>0.782051282051282</td>\r\n            <td>Unknown=>SdcaLogisticRegressionBinary</td>\r\n        </tr>\r\n\t \r\n\t\t<tr>\r\n            <td>84</td>\r\n            <td>0.8205128205128205</td>\r\n            <td>Unknown=>LightGbmBinary</td>\r\n        </tr>\r\n\t \r\n\t\t<tr>\r\n            <td>85</td>\r\n            <td>0.8205128205128205</td>\r\n            <td>Unknown=>LbfgsLogisticRegressionBinary</td>\r\n        </tr>\r\n\t \r\n\t\t<tr>\r\n            <td>86</td>\r\n            <td>0.7948717948717948</td>\r\n            <td>Unknown=>FastTreeBinary</td>\r\n        </tr>\r\n\t\r\n            \r\n\t\t<tbody>\r\n\t</table>\r\n</div>\r\n<script type=\"text/javascript\">\r\nvar renderPlotly = function() {\r\n    var xplotRequire = require.config({context:'xplot-3.0.1',paths:{plotly:'https://cdn.plot.ly/plotly-1.49.2.min'}}) || require;\r\n    xplotRequire(['plotly'], function(Plotly) { \r\n\r\n\n            var data = [{\"type\":\"scatter\",\"x\":[0,1,2,3,4,5,6,7,8,9,10,11,12,13,14,15,16,17,18,19,20,21,22,23,24,25,26,27,28,29,30,31,32,33,34,35,36,37,38,39,40,41,42,43,44,45,46,47,48,49,50,51,52,53,54,55,56,57,58,59,60,61,62,63,64,65,66,67,68,69,70,71,72,73,74,75,76,77,78,79,80,81,82,83,84,85,86],\"y\":[0.6794871794871795,0.5512820512820513,0.8205128205128205,0.8205128205128205,0.8205128205128205,0.7948717948717948,0.7307692307692307,0.7948717948717948,0.8333333333333334,0.717948717948718,0.8333333333333334,0.7948717948717948,0.782051282051282,0.8205128205128205,0.7051282051282052,0.8205128205128205,0.7948717948717948,0.8205128205128205,0.7051282051282052,0.8205128205128205,0.7948717948717948,0.8076923076923077,0.7051282051282052,0.8205128205128205,0.8076923076923077,0.7948717948717948,0.7692307692307693,0.8205128205128205,0.8205128205128205,0.8461538461538461,0.8333333333333334,0.782051282051282,0.8076923076923077,0.8205128205128205,0.717948717948718,0.8205128205128205,0.8205128205128205,0.782051282051282,0.6153846153846154,0.8205128205128205,0.8205128205128205,0.8205128205128205,0.6794871794871795,0.8461538461538461,0.8205128205128205,0.8333333333333334,0.6923076923076923,0.8461538461538461,0.8461538461538461,0.8589743589743589,0.8589743589743589,0.7692307692307693,0.8205128205128205,0.8205128205128205,0.8461538461538461,0.7051282051282052,0.8333333333333334,0.8076923076923077,0.8076923076923077,0.7307692307692307,0.8205128205128205,0.8589743589743589,0.8333333333333334,0.7564102564102564,0.8333333333333334,0.8333333333333334,0.7948717948717948,0.7692307692307693,0.8205128205128205,0.8333333333333334,0.8461538461538461,0.717948717948718,0.8333333333333334,0.8333333333333334,0.7948717948717948,0.782051282051282,0.8076923076923077,0.8461538461538461,0.8076923076923077,0.7307692307692307,0.8076923076923077,0.8205128205128205,0.8076923076923077,0.782051282051282,0.8205128205128205,0.8205128205128205,0.7948717948717948],\"mode\":\"markers\"}];\n           var layout = {\"title\":\"Plot metrics over trials.\",\"showlegend\":false,\"xaxis\":{\"title\":\"Trial\",\"_isSubplotObj\":true},\"yaxis\":{\"title\":\"Metric\",\"_isSubplotObj\":true}};\n           Plotly.newPlot('653b984b-5314-462b-b78a-d4a2cd06d359', data, layout);\n        \r\n        \r\n});\r\n};\r\n// ensure `require` is available globally\r\nif ((typeof(require) !==  typeof(Function)) || (typeof(require.config) !== typeof(Function))) {\r\n    let require_script = document.createElement('script');\r\n    require_script.setAttribute('src', 'https://cdnjs.cloudflare.com/ajax/libs/require.js/2.3.6/require.min.js');\r\n    require_script.setAttribute('type', 'text/javascript');\r\n    require_script.onload = function() {\r\n        renderPlotly();\r\n    };\r\n\r\n    document.getElementsByTagName('head')[0].appendChild(require_script);\r\n}\r\nelse {\r\n    renderPlotly();\r\n}\r\n</script>\r\n"
          },
          "execution_count": 1,
          "metadata": {}
        }
      ]
    }
  ],
  "metadata": {
    "kernelspec": {
      "display_name": ".NET (C#)",
      "language": "C#",
      "name": ".net-csharp"
    },
    "language_info": {
      "file_extension": ".cs",
      "mimetype": "text/x-csharp",
      "name": "C#",
      "pygments_lexer": "csharp",
      "version": "8.0"
    }
  },
  "nbformat": 4,
  "nbformat_minor": 4
}